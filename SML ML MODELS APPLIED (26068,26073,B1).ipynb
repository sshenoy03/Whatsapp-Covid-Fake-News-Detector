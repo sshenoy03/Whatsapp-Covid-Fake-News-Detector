{
 "cells": [
  {
   "cell_type": "code",
   "execution_count": 9,
   "id": "8ed28a2d",
   "metadata": {},
   "outputs": [],
   "source": [
    "import pandas as pd \n",
    "import numpy as np \n",
    "import nltk\n",
    "import re\n",
    "from nltk.corpus import stopwords\n",
    "import matplotlib.pyplot as plt \n",
    "import plotly.express as px\n",
    "from wordcloud import WordCloud, STOPWORDS \n",
    "from collections import Counter \n",
    "from textblob import TextBlob\n",
    "# stopwords = set(STOPWORDS) \n",
    "import pickle\n",
    "# import pyLDAvis.sklearn\n",
    "from nltk.probability import FreqDist\n",
    "from sklearn.feature_extraction.text import CountVectorizer\n",
    "from sklearn.feature_extraction.text import TfidfVectorizer\n",
    "from sklearn.decomposition import LatentDirichletAllocation, NMF\n",
    "from wordcloud import WordCloud, ImageColorGenerator\n",
    "import seaborn as sns\n",
    "%matplotlib inline\n",
    "from sklearn.metrics import classification_report,confusion_matrix\n",
    "from sklearn.metrics import accuracy_score, f1_score, precision_score, recall_score\n",
    "from sklearn.svm import LinearSVC\n",
    "from sklearn.pipeline import Pipeline\n",
    "from sklearn.linear_model import SGDClassifier, LogisticRegression\n",
    "from sklearn.feature_extraction.text import CountVectorizer, TfidfTransformer\n",
    "from sklearn.ensemble import GradientBoostingClassifier\n",
    "from sklearn import tree\n",
    "from sklearn.metrics import plot_confusion_matrix\n",
    "from sklearn.model_selection import GridSearchCV\n",
    "from sklearn import metrics\n",
    "\n"
   ]
  },
  {
   "cell_type": "code",
   "execution_count": 2,
   "id": "b44c2f19",
   "metadata": {},
   "outputs": [],
   "source": [
    "stops = set(stopwords.words(\"english\"))"
   ]
  },
  {
   "cell_type": "code",
   "execution_count": 3,
   "id": "5f15a1b5",
   "metadata": {},
   "outputs": [],
   "source": [
    "# final=pd.read_csv('final.csv')"
   ]
  },
  {
   "cell_type": "code",
   "execution_count": 4,
   "id": "c17719ea",
   "metadata": {},
   "outputs": [],
   "source": [
    "# final"
   ]
  },
  {
   "cell_type": "code",
   "execution_count": 5,
   "id": "fa07400e",
   "metadata": {},
   "outputs": [],
   "source": [
    "# entire =final.copy()\n",
    "# # entire"
   ]
  },
  {
   "cell_type": "code",
   "execution_count": null,
   "id": "1187d994",
   "metadata": {},
   "outputs": [],
   "source": []
  },
  {
   "cell_type": "code",
   "execution_count": 3,
   "id": "b0858b98",
   "metadata": {},
   "outputs": [],
   "source": [
    "\n",
    "def cleantext(string):\n",
    "    text = string.lower().split()\n",
    "    text = \" \".join(text)\n",
    "    text = re.sub(r\"http(\\S)+\",' ',text)    \n",
    "    text = re.sub(r\"www(\\S)+\",' ',text)\n",
    "    text = re.sub(r\"&\",' and ',text)  \n",
    "    tx = text.replace('&amp',' ')\n",
    "    text = re.sub(r\"[^0-9a-zA-Z]+\",' ',text)\n",
    "    text = text.split()\n",
    "    text = [w for w in text if not w in stops]\n",
    "    text = \" \".join(text)\n",
    "    return text"
   ]
  },
  {
   "cell_type": "code",
   "execution_count": 7,
   "id": "6cbd4edc",
   "metadata": {},
   "outputs": [],
   "source": [
    "# entire2=entire.loc[:,:]\n",
    "# entire2"
   ]
  },
  {
   "cell_type": "code",
   "execution_count": 8,
   "id": "4f6c6431",
   "metadata": {},
   "outputs": [],
   "source": [
    "# entire2['Text']=entire2['Text'].map(lambda x: cleantext(x))"
   ]
  },
  {
   "cell_type": "markdown",
   "id": "949e6c66",
   "metadata": {},
   "source": [
    "### Splitting the data "
   ]
  },
  {
   "cell_type": "code",
   "execution_count": 9,
   "id": "91f75b99",
   "metadata": {},
   "outputs": [],
   "source": [
    "# from fast_ml.model_development import train_valid_test_split"
   ]
  },
  {
   "cell_type": "code",
   "execution_count": 10,
   "id": "233e4f66",
   "metadata": {},
   "outputs": [],
   "source": [
    "# X_train, y_train, X_valid, y_valid, X_test, y_test = train_valid_test_split(entire2, target ='Label',\n",
    "#                                                                             train_size=0.8,\n",
    "#                                                                             valid_size=0.1,\n",
    "#                                                                             test_size=0.1,\n",
    "#                                                                             random_state=42\n",
    "#                                                                            )"
   ]
  },
  {
   "cell_type": "code",
   "execution_count": 11,
   "id": "235fe1b2",
   "metadata": {},
   "outputs": [],
   "source": [
    "# X_train.to_csv('X_train.csv',index=False)\n",
    "# X_valid.to_csv('X_valid.csv',index=False)\n",
    "# X_test.to_csv('X_test.csv',index=False)\n",
    "# y_train=list(y_train)\n",
    "# y_valid=list(y_valid)\n",
    "# y_test=list(y_test)\n",
    "# np.save('y_train.npy',y_train)\n",
    "# np.save('y_valid.npy',y_valid)\n",
    "# np.save('y_test.npy',y_test)"
   ]
  },
  {
   "cell_type": "code",
   "execution_count": 10,
   "id": "303fb29a",
   "metadata": {},
   "outputs": [],
   "source": [
    "X_train=pd.read_csv('X_train.csv')\n",
    "X_valid=pd.read_csv('X_valid.csv')\n",
    "X_test=pd.read_csv('X_test.csv')\n",
    "y_train=np.load('y_train.npy')\n",
    "y_valid=np.load('y_valid.npy')\n",
    "y_test=np.load('y_test.npy')"
   ]
  },
  {
   "cell_type": "code",
   "execution_count": 13,
   "id": "57076019",
   "metadata": {},
   "outputs": [
    {
     "data": {
      "text/plain": [
       "array([1, 0, 0, ..., 0, 0, 1])"
      ]
     },
     "execution_count": 13,
     "metadata": {},
     "output_type": "execute_result"
    }
   ],
   "source": [
    "y_train"
   ]
  },
  {
   "cell_type": "markdown",
   "id": "f064a81b",
   "metadata": {},
   "source": [
    "### Implementing ML Models "
   ]
  },
  {
   "cell_type": "markdown",
   "id": "ca31d331",
   "metadata": {},
   "source": [
    "###  Implementing Logistic Regression"
   ]
  },
  {
   "cell_type": "code",
   "execution_count": 14,
   "id": "ff92ec8d",
   "metadata": {},
   "outputs": [
    {
     "data": {
      "text/plain": [
       "dtype('O')"
      ]
     },
     "execution_count": 14,
     "metadata": {},
     "output_type": "execute_result"
    }
   ],
   "source": [
    "X_train['Text'].dtypes"
   ]
  },
  {
   "cell_type": "code",
   "execution_count": 15,
   "id": "e9ce178c",
   "metadata": {},
   "outputs": [
    {
     "name": "stdout",
     "output_type": "stream",
     "text": [
      "Logistic Regression\n",
      "val:\n",
      "              precision    recall  f1-score   support\n",
      "\n",
      "           0       0.89      0.88      0.88      1456\n",
      "           1       0.84      0.86      0.85      1127\n",
      "\n",
      "    accuracy                           0.87      2583\n",
      "   macro avg       0.87      0.87      0.87      2583\n",
      "weighted avg       0.87      0.87      0.87      2583\n",
      "\n"
     ]
    },
    {
     "name": "stderr",
     "output_type": "stream",
     "text": [
      "C:\\Users\\sah-1\\anaconda3\\lib\\site-packages\\sklearn\\utils\\deprecation.py:87: FutureWarning: Function plot_confusion_matrix is deprecated; Function `plot_confusion_matrix` is deprecated in 1.0 and will be removed in 1.2. Use one of the class methods: ConfusionMatrixDisplay.from_predictions or ConfusionMatrixDisplay.from_estimator.\n",
      "  warnings.warn(msg, category=FutureWarning)\n"
     ]
    },
    {
     "data": {
      "text/plain": [
       "Text(0.5, 1.0, 'Confusion matix of Linear Regression on val data')"
      ]
     },
     "execution_count": 15,
     "metadata": {},
     "output_type": "execute_result"
    },
    {
     "data": {
      "image/png": "[encoded data removed]",
      "text/plain": [
       "<Figure size 432x288 with 2 Axes>"
      ]
     },
     "metadata": {
      "needs_background": "light"
     },
     "output_type": "display_data"
    }
   ],
   "source": [
    "pipeline = Pipeline([\n",
    "        ('bow', CountVectorizer()),\n",
    "        ('tfidf', TfidfTransformer()),  \n",
    "        ('c', LogisticRegression())\n",
    "    ])\n",
    "fit = pipeline.fit(X_train['Text'],y_train)\n",
    "print('Logistic Regression')\n",
    "print ('val:')\n",
    "pred=pipeline.predict(X_valid['Text'])\n",
    "\n",
    "\n",
    "print(metrics.classification_report(pred,y_valid))\n",
    "cm=plot_confusion_matrix(fit,X=X_valid['Text'],y_true=y_valid,normalize = None) \n",
    "                      #title = 'Confusion matix of LR on val data')\n",
    "cm.ax_.set_title('Confusion matix of Linear Regression on val data')"
   ]
  },
  {
   "cell_type": "markdown",
   "id": "41f2413a",
   "metadata": {},
   "source": [
    "### On test dataset"
   ]
  },
  {
   "cell_type": "code",
   "execution_count": 16,
   "id": "e686c2b6",
   "metadata": {},
   "outputs": [
    {
     "name": "stdout",
     "output_type": "stream",
     "text": [
      "Logistic Regression \n",
      "test:\n",
      "              precision    recall  f1-score   support\n",
      "\n",
      "           0       0.88      0.89      0.88      1386\n",
      "           1       0.87      0.86      0.86      1197\n",
      "\n",
      "    accuracy                           0.87      2583\n",
      "   macro avg       0.87      0.87      0.87      2583\n",
      "weighted avg       0.87      0.87      0.87      2583\n",
      "\n"
     ]
    },
    {
     "name": "stderr",
     "output_type": "stream",
     "text": [
      "C:\\Users\\sah-1\\anaconda3\\lib\\site-packages\\sklearn\\utils\\deprecation.py:87: FutureWarning: Function plot_confusion_matrix is deprecated; Function `plot_confusion_matrix` is deprecated in 1.0 and will be removed in 1.2. Use one of the class methods: ConfusionMatrixDisplay.from_predictions or ConfusionMatrixDisplay.from_estimator.\n",
      "  warnings.warn(msg, category=FutureWarning)\n"
     ]
    },
    {
     "data": {
      "text/plain": [
       "Text(0.5, 1.0, 'Confusion matix of Linear Regression on test data')"
      ]
     },
     "execution_count": 16,
     "metadata": {},
     "output_type": "execute_result"
    },
    {
     "data": {
      "image/png": "[encoded data removed]",
      "text/plain": [
       "<Figure size 432x288 with 2 Axes>"
      ]
     },
     "metadata": {
      "needs_background": "light"
     },
     "output_type": "display_data"
    }
   ],
   "source": [
    "print('Logistic Regression ')\n",
    "print ('test:')\n",
    "pred_LR=pipeline.predict(X_test['Text'])\n",
    "np.save('pred_LR.npy',pred_LR)\n",
    "\n",
    "\n",
    "print(metrics.classification_report(pred_LR,y_test))\n",
    "LR_report=metrics.classification_report(pred_LR,y_test,output_dict=True)\n",
    "LR_report=pd.DataFrame(LR_report).transpose()\n",
    "LR_report.to_csv('LR_report.csv',index=False)\n",
    "cm=plot_confusion_matrix(fit,X=X_test['Text'],y_true=y_test,normalize = None) \n",
    "                      #title = 'Confusion matix of LR on test data')\n",
    "cm.ax_.set_title('Confusion matix of Linear Regression on test data')"
   ]
  },
  {
   "cell_type": "code",
   "execution_count": 17,
   "id": "200d9309",
   "metadata": {},
   "outputs": [
    {
     "data": {
      "text/plain": [
       "array([1])"
      ]
     },
     "execution_count": 17,
     "metadata": {},
     "output_type": "execute_result"
    }
   ],
   "source": [
    "text=['WHO claims covid does not need cure']\n",
    "text=[cleantext(str) for str in text]\n",
    "predtext=pipeline.predict(text)\n",
    "predtext"
   ]
  },
  {
   "cell_type": "markdown",
   "id": "a6791a84",
   "metadata": {},
   "source": [
    "### Tuning Hyperparameters for LR "
   ]
  },
  {
   "cell_type": "code",
   "execution_count": null,
   "id": "a3629a45",
   "metadata": {},
   "outputs": [],
   "source": []
  },
  {
   "cell_type": "code",
   "execution_count": 18,
   "id": "af2bcd8e",
   "metadata": {},
   "outputs": [
    {
     "name": "stdout",
     "output_type": "stream",
     "text": [
      "Pipeline(steps=[('bow', CountVectorizer()), ('tfidf', TfidfTransformer()),\n",
      "                ('clf',\n",
      "                 LogisticRegression(C=7.9060432109076855, max_iter=10000,\n",
      "                                    random_state=0))])\n",
      "The mean accuracy of the model is: 0.8780487804878049\n"
     ]
    }
   ],
   "source": [
    "param_grid =[ {'clf__C': np.logspace(-4, 4, 50),\n",
    "              'clf__solver' : ['liblinear'],\n",
    "             'clf__penalty':['l1'],\n",
    "              'clf__max_iter':[10000]},\n",
    "             {'clf__C': np.logspace(-4, 4, 50),\n",
    "              'clf__solver' : ['lbfgs','newton-cg'],\n",
    "             'clf__penalty':['l2'],\n",
    "             'clf__max_iter':[10000]}]\n",
    "             \n",
    "\n",
    "pipeline_tuning = Pipeline([\n",
    "        ('bow', CountVectorizer()),\n",
    "        ('tfidf', TfidfTransformer()),  \n",
    "        ('clf',LogisticRegression(random_state=0) )\n",
    "    ])\n",
    "\n",
    "best_model=GridSearchCV(pipeline_tuning, param_grid,cv=5, verbose=0,n_jobs=-1)\n",
    "best_model.fit(X_train['Text'],y_train)\n",
    "print(best_model.best_estimator_)\n",
    "print(\"The mean accuracy of the model is:\",best_model.score(X_test['Text'],y_test))"
   ]
  },
  {
   "cell_type": "markdown",
   "id": "83a15a04",
   "metadata": {},
   "source": [
    "### Applying the best model in LR "
   ]
  },
  {
   "cell_type": "code",
   "execution_count": 19,
   "id": "a237dc30",
   "metadata": {},
   "outputs": [
    {
     "name": "stdout",
     "output_type": "stream",
     "text": [
      "Best Logistic Regression\n",
      "test:\n",
      "              precision    recall  f1-score   support\n",
      "\n",
      "           0       0.88      0.89      0.88      1386\n",
      "           1       0.87      0.86      0.86      1197\n",
      "\n",
      "    accuracy                           0.87      2583\n",
      "   macro avg       0.87      0.87      0.87      2583\n",
      "weighted avg       0.87      0.87      0.87      2583\n",
      "\n"
     ]
    },
    {
     "name": "stderr",
     "output_type": "stream",
     "text": [
      "C:\\Users\\sah-1\\anaconda3\\lib\\site-packages\\sklearn\\utils\\deprecation.py:87: FutureWarning: Function plot_confusion_matrix is deprecated; Function `plot_confusion_matrix` is deprecated in 1.0 and will be removed in 1.2. Use one of the class methods: ConfusionMatrixDisplay.from_predictions or ConfusionMatrixDisplay.from_estimator.\n",
      "  warnings.warn(msg, category=FutureWarning)\n"
     ]
    },
    {
     "data": {
      "text/plain": [
       "Text(0.5, 1.0, 'Confusion matix of Best Linear Regression model  on test data')"
      ]
     },
     "execution_count": 19,
     "metadata": {},
     "output_type": "execute_result"
    },
    {
     "data": {
      "image/png": "[encoded data removed]",
      "text/plain": [
       "<Figure size 432x288 with 2 Axes>"
      ]
     },
     "metadata": {
      "needs_background": "light"
     },
     "output_type": "display_data"
    }
   ],
   "source": [
    "pipeline_bestModel = Pipeline([\n",
    "        ('bow', CountVectorizer()),\n",
    "        ('tfidf', TfidfTransformer()),  \n",
    "        ('clf',LogisticRegression(C=7.9060432109076855,random_state=0,max_iter=10000) )\n",
    "    ])\n",
    "fit_best = pipeline_bestModel.fit(X_train['Text'],y_train)\n",
    "print('Best Logistic Regression')\n",
    "print ('test:')\n",
    "pred_LR_best=pipeline.predict(X_test['Text'])\n",
    "np.save('pred_LR_best.npy',pred_LR_best)\n",
    "\n",
    "\n",
    "print(metrics.classification_report(pred_LR_best,y_test))\n",
    "\n",
    "LR_best_report=metrics.classification_report(pred_LR_best,y_test,output_dict=True)\n",
    "LR_best_report=pd.DataFrame(LR_best_report).transpose()\n",
    "LR_best_report.to_csv('LR_best_report.csv',index=False)\n",
    "LR_best_output={'Text':X_test['Text'],'Label':y_test,'pred_LR_best':pred_LR_best}\n",
    "LR_best_output=pd.DataFrame(LR_best_output)\n",
    "LR_best_output.to_csv('LR_best_output.csv',index=False)\n",
    "cm=plot_confusion_matrix(fit_best,X=X_test['Text'],y_true=y_test,normalize = None) \n",
    "                      #title = 'Confusion matix of LR on test data')\n",
    "cm.ax_.set_title('Confusion matix of Best Linear Regression model  on test data')"
   ]
  },
  {
   "cell_type": "code",
   "execution_count": 20,
   "id": "65a7b9cc",
   "metadata": {},
   "outputs": [
    {
     "data": {
      "text/html": [
       "<div>\n",
       "<style scoped>\n",
       "    .dataframe tbody tr th:only-of-type {\n",
       "        vertical-align: middle;\n",
       "    }\n",
       "\n",
       "    .dataframe tbody tr th {\n",
       "        vertical-align: top;\n",
       "    }\n",
       "\n",
       "    .dataframe thead th {\n",
       "        text-align: right;\n",
       "    }\n",
       "</style>\n",
       "<table border=\"1\" class=\"dataframe\">\n",
       "  <thead>\n",
       "    <tr style=\"text-align: right;\">\n",
       "      <th></th>\n",
       "      <th>precision</th>\n",
       "      <th>recall</th>\n",
       "      <th>f1-score</th>\n",
       "      <th>support</th>\n",
       "    </tr>\n",
       "  </thead>\n",
       "  <tbody>\n",
       "    <tr>\n",
       "      <th>0</th>\n",
       "      <td>0.879570</td>\n",
       "      <td>0.885281</td>\n",
       "      <td>0.882416</td>\n",
       "      <td>1386.000000</td>\n",
       "    </tr>\n",
       "    <tr>\n",
       "      <th>1</th>\n",
       "      <td>0.866162</td>\n",
       "      <td>0.859649</td>\n",
       "      <td>0.862893</td>\n",
       "      <td>1197.000000</td>\n",
       "    </tr>\n",
       "    <tr>\n",
       "      <th>accuracy</th>\n",
       "      <td>0.873403</td>\n",
       "      <td>0.873403</td>\n",
       "      <td>0.873403</td>\n",
       "      <td>0.873403</td>\n",
       "    </tr>\n",
       "    <tr>\n",
       "      <th>macro avg</th>\n",
       "      <td>0.872866</td>\n",
       "      <td>0.872465</td>\n",
       "      <td>0.872655</td>\n",
       "      <td>2583.000000</td>\n",
       "    </tr>\n",
       "    <tr>\n",
       "      <th>weighted avg</th>\n",
       "      <td>0.873356</td>\n",
       "      <td>0.873403</td>\n",
       "      <td>0.873369</td>\n",
       "      <td>2583.000000</td>\n",
       "    </tr>\n",
       "  </tbody>\n",
       "</table>\n",
       "</div>"
      ],
      "text/plain": [
       "              precision    recall  f1-score      support\n",
       "0              0.879570  0.885281  0.882416  1386.000000\n",
       "1              0.866162  0.859649  0.862893  1197.000000\n",
       "accuracy       0.873403  0.873403  0.873403     0.873403\n",
       "macro avg      0.872866  0.872465  0.872655  2583.000000\n",
       "weighted avg   0.873356  0.873403  0.873369  2583.000000"
      ]
     },
     "execution_count": 20,
     "metadata": {},
     "output_type": "execute_result"
    }
   ],
   "source": [
    "LR_best_report"
   ]
  },
  {
   "cell_type": "code",
   "execution_count": 21,
   "id": "35589cc2",
   "metadata": {},
   "outputs": [],
   "source": [
    "filename='best_LR_model.sav'\n",
    "pickle.dump(fit_best, open(filename, 'wb'))"
   ]
  },
  {
   "cell_type": "code",
   "execution_count": 22,
   "id": "c170ae7b",
   "metadata": {},
   "outputs": [
    {
     "name": "stdout",
     "output_type": "stream",
     "text": [
      "0.8780487804878049\n"
     ]
    }
   ],
   "source": [
    "\n",
    "# load the model from disk\n",
    "loaded_model = pickle.load(open(filename, 'rb'))\n",
    "result = loaded_model.score(X_test['Text'], y_test)\n",
    "print(result)"
   ]
  },
  {
   "cell_type": "markdown",
   "id": "97423870",
   "metadata": {},
   "source": [
    "### Implementing Linear Support Vector Machine"
   ]
  },
  {
   "cell_type": "code",
   "execution_count": 23,
   "id": "e0bef542",
   "metadata": {},
   "outputs": [
    {
     "name": "stdout",
     "output_type": "stream",
     "text": [
      "SVM\n",
      "valid:\n",
      "              precision    recall  f1-score   support\n",
      "\n",
      "           0       0.90      0.89      0.90      1452\n",
      "           1       0.86      0.88      0.87      1131\n",
      "\n",
      "    accuracy                           0.88      2583\n",
      "   macro avg       0.88      0.88      0.88      2583\n",
      "weighted avg       0.88      0.88      0.88      2583\n",
      "\n"
     ]
    },
    {
     "name": "stderr",
     "output_type": "stream",
     "text": [
      "C:\\Users\\sah-1\\anaconda3\\lib\\site-packages\\sklearn\\utils\\deprecation.py:87: FutureWarning: Function plot_confusion_matrix is deprecated; Function `plot_confusion_matrix` is deprecated in 1.0 and will be removed in 1.2. Use one of the class methods: ConfusionMatrixDisplay.from_predictions or ConfusionMatrixDisplay.from_estimator.\n",
      "  warnings.warn(msg, category=FutureWarning)\n"
     ]
    },
    {
     "data": {
      "text/plain": [
       "Text(0.5, 1.0, 'Confusion matix of SVM on valid data')"
      ]
     },
     "execution_count": 23,
     "metadata": {},
     "output_type": "execute_result"
    },
    {
     "data": {
      "image/png": "[encoded data removed]",
      "text/plain": [
       "<Figure size 432x288 with 2 Axes>"
      ]
     },
     "metadata": {
      "needs_background": "light"
     },
     "output_type": "display_data"
    }
   ],
   "source": [
    "pipelineSVM = Pipeline([\n",
    "        ('bow', CountVectorizer()),  \n",
    "        ('tfidf', TfidfTransformer()),  \n",
    "        ('c', LinearSVC())\n",
    "    ])\n",
    "fit = pipelineSVM.fit(X_train['Text'],y_train)\n",
    "print('SVM')\n",
    "print ('valid:')\n",
    "pred=pipelineSVM.predict(X_valid['Text'])\n",
    "print(metrics.classification_report(pred,y_valid))\n",
    "\n",
    "\n",
    "cm=plot_confusion_matrix(fit,X=X_valid['Text'],y_true=y_valid, normalize = None )\n",
    "cm.ax_.set_title('Confusion matix of SVM on valid data')\n",
    "\n",
    "\n",
    "\n"
   ]
  },
  {
   "cell_type": "markdown",
   "id": "2d21206a",
   "metadata": {},
   "source": [
    "### On test Set "
   ]
  },
  {
   "cell_type": "code",
   "execution_count": 24,
   "id": "253bfdee",
   "metadata": {},
   "outputs": [
    {
     "name": "stdout",
     "output_type": "stream",
     "text": [
      "SVM\n",
      "test:\n",
      "              precision    recall  f1-score   support\n",
      "\n",
      "           0       0.88      0.89      0.88      1383\n",
      "           1       0.87      0.86      0.87      1200\n",
      "\n",
      "    accuracy                           0.88      2583\n",
      "   macro avg       0.87      0.87      0.87      2583\n",
      "weighted avg       0.88      0.88      0.88      2583\n",
      "\n"
     ]
    },
    {
     "name": "stderr",
     "output_type": "stream",
     "text": [
      "C:\\Users\\sah-1\\anaconda3\\lib\\site-packages\\sklearn\\utils\\deprecation.py:87: FutureWarning: Function plot_confusion_matrix is deprecated; Function `plot_confusion_matrix` is deprecated in 1.0 and will be removed in 1.2. Use one of the class methods: ConfusionMatrixDisplay.from_predictions or ConfusionMatrixDisplay.from_estimator.\n",
      "  warnings.warn(msg, category=FutureWarning)\n"
     ]
    },
    {
     "data": {
      "text/plain": [
       "Text(0.5, 1.0, 'Confusion matix of SVM on test data')"
      ]
     },
     "execution_count": 24,
     "metadata": {},
     "output_type": "execute_result"
    },
    {
     "data": {
      "image/png": "[encoded data removed]",
      "text/plain": [
       "<Figure size 432x288 with 2 Axes>"
      ]
     },
     "metadata": {
      "needs_background": "light"
     },
     "output_type": "display_data"
    }
   ],
   "source": [
    "print('SVM')\n",
    "print ('test:')\n",
    "pred_SVM=pipelineSVM.predict(X_test['Text'])\n",
    "np.save('pred_SVM.npy',pred_SVM)\n",
    "\n",
    "print(metrics.classification_report(pred_SVM,y_test))\n",
    "\n",
    "SVM_report=metrics.classification_report(pred_SVM,y_test,output_dict=True)\n",
    "SVM_report=pd.DataFrame(SVM_report).transpose()\n",
    "SVM_report.to_csv('SVM_report.csv',index=False)\n",
    "\n",
    "\n",
    "cm=plot_confusion_matrix(fit,X=X_test['Text'],y_true=y_test, normalize = None, \n",
    "                        )#title = 'Confusion matix of SVM on test data')\n",
    "cm.ax_.set_title('Confusion matix of SVM on test data')"
   ]
  },
  {
   "cell_type": "code",
   "execution_count": 25,
   "id": "5a4a0f93",
   "metadata": {},
   "outputs": [],
   "source": [
    "filename='SVM_model.sav'\n",
    "pickle.dump(pipelineSVM, open(filename, 'wb'))\n"
   ]
  },
  {
   "cell_type": "code",
   "execution_count": 26,
   "id": "63654d9e",
   "metadata": {},
   "outputs": [],
   "source": [
    "\n",
    "# # load the model from disk\n",
    "# loaded_model = pickle.load(open(filename, 'rb'))\n",
    "# result = loaded_model.score(X_test['Text'], y_test)\n",
    "# print(result)"
   ]
  },
  {
   "cell_type": "code",
   "execution_count": 27,
   "id": "62ac53c9",
   "metadata": {},
   "outputs": [
    {
     "data": {
      "text/plain": [
       "array([0])"
      ]
     },
     "execution_count": 27,
     "metadata": {},
     "output_type": "execute_result"
    }
   ],
   "source": [
    "text=['WHO ']\n",
    "text=[cleantext(str) for str in text]\n",
    "predtext=pipelineSVM.predict(text)\n",
    "predtext"
   ]
  },
  {
   "cell_type": "markdown",
   "id": "b0ebe15d",
   "metadata": {},
   "source": [
    "### Implementing Gradient Boost "
   ]
  },
  {
   "cell_type": "code",
   "execution_count": 28,
   "id": "8551dd69",
   "metadata": {},
   "outputs": [
    {
     "name": "stdout",
     "output_type": "stream",
     "text": [
      "GradientBoostingClassifier()\n",
      "val:\n",
      "              precision    recall  f1-score   support\n",
      "\n",
      "           0       0.89      0.78      0.83      1636\n",
      "           1       0.69      0.84      0.76       947\n",
      "\n",
      "    accuracy                           0.80      2583\n",
      "   macro avg       0.79      0.81      0.79      2583\n",
      "weighted avg       0.82      0.80      0.80      2583\n",
      "\n"
     ]
    },
    {
     "name": "stderr",
     "output_type": "stream",
     "text": [
      "C:\\Users\\sah-1\\anaconda3\\lib\\site-packages\\sklearn\\utils\\deprecation.py:87: FutureWarning: Function plot_confusion_matrix is deprecated; Function `plot_confusion_matrix` is deprecated in 1.0 and will be removed in 1.2. Use one of the class methods: ConfusionMatrixDisplay.from_predictions or ConfusionMatrixDisplay.from_estimator.\n",
      "  warnings.warn(msg, category=FutureWarning)\n"
     ]
    },
    {
     "data": {
      "text/plain": [
       "Text(0.5, 1.0, 'Confusion matix of Gradient Boosting Classifier on val data')"
      ]
     },
     "execution_count": 28,
     "metadata": {},
     "output_type": "execute_result"
    },
    {
     "data": {
      "image/png": "[encoded data removed]",
      "text/plain": [
       "<Figure size 432x288 with 2 Axes>"
      ]
     },
     "metadata": {
      "needs_background": "light"
     },
     "output_type": "display_data"
    }
   ],
   "source": [
    "pipelineGB = Pipeline([\n",
    "        ('bow', CountVectorizer()),  \n",
    "        ('tfidf', TfidfTransformer()),  \n",
    "        ('c', GradientBoostingClassifier())\n",
    "    ])\n",
    "fit = pipelineGB.fit(X_train['Text'],y_train)\n",
    "print('GradientBoostingClassifier()')\n",
    "print ('val:')\n",
    "pred=pipelineGB.predict(X_valid['Text'])\n",
    "\n",
    "print(metrics.classification_report(pred,y_valid))\n",
    "cm=plot_confusion_matrix(fit,X=X_valid['Text'],y_true=y_valid, normalize = None) \n",
    "                      #title = 'Confusion matix of GB on val data')\n",
    "cm.ax_.set_title('Confusion matix of Gradient Boosting Classifier on val data')"
   ]
  },
  {
   "cell_type": "markdown",
   "id": "b93fcc0b",
   "metadata": {},
   "source": [
    "### On test set"
   ]
  },
  {
   "cell_type": "code",
   "execution_count": 29,
   "id": "bd0e53fe",
   "metadata": {},
   "outputs": [
    {
     "name": "stdout",
     "output_type": "stream",
     "text": [
      "GradientBoostingClassifier()\n",
      "test:\n",
      "              precision    recall  f1-score   support\n",
      "\n",
      "           0       0.87      0.77      0.82      1561\n",
      "           1       0.70      0.82      0.76      1022\n",
      "\n",
      "    accuracy                           0.79      2583\n",
      "   macro avg       0.79      0.80      0.79      2583\n",
      "weighted avg       0.80      0.79      0.79      2583\n",
      "\n"
     ]
    },
    {
     "name": "stderr",
     "output_type": "stream",
     "text": [
      "C:\\Users\\sah-1\\anaconda3\\lib\\site-packages\\sklearn\\utils\\deprecation.py:87: FutureWarning: Function plot_confusion_matrix is deprecated; Function `plot_confusion_matrix` is deprecated in 1.0 and will be removed in 1.2. Use one of the class methods: ConfusionMatrixDisplay.from_predictions or ConfusionMatrixDisplay.from_estimator.\n",
      "  warnings.warn(msg, category=FutureWarning)\n"
     ]
    },
    {
     "data": {
      "text/plain": [
       "Text(0.5, 1.0, 'Confusion matix of Gradient Boosting Classifier on test data')"
      ]
     },
     "execution_count": 29,
     "metadata": {},
     "output_type": "execute_result"
    },
    {
     "data": {
      "image/png": "[encoded data removed]",
      "text/plain": [
       "<Figure size 432x288 with 2 Axes>"
      ]
     },
     "metadata": {
      "needs_background": "light"
     },
     "output_type": "display_data"
    }
   ],
   "source": [
    "print('GradientBoostingClassifier()')\n",
    "print ('test:')\n",
    "pred_GB=pipelineGB.predict(X_test['Text'])\n",
    "np.save('pred_GB.npy',pred_GB)\n",
    "print(metrics.classification_report(pred_GB,y_test))\n",
    "GB_report=metrics.classification_report(pred_GB,y_test,output_dict=True)\n",
    "GB_report=pd.DataFrame(GB_report).transpose()\n",
    "GB_report.to_csv('GB_report.csv',index=False)\n",
    "\n",
    "cm=plot_confusion_matrix(fit,X=X_test['Text'],y_true=y_test, normalize = None) \n",
    "                      #title = 'Confusion matix of GB on test data')\n",
    "cm.ax_.set_title('Confusion matix of Gradient Boosting Classifier on test data')"
   ]
  },
  {
   "cell_type": "code",
   "execution_count": 30,
   "id": "0c6ae585",
   "metadata": {},
   "outputs": [
    {
     "data": {
      "text/plain": [
       "array([1])"
      ]
     },
     "execution_count": 30,
     "metadata": {},
     "output_type": "execute_result"
    }
   ],
   "source": [
    "text=['WHO claims covid does not need cure']\n",
    "text=[cleantext(str) for str in text]\n",
    "predtext=pipelineGB.predict(text)\n",
    "predtext"
   ]
  },
  {
   "cell_type": "markdown",
   "id": "6ab2c393",
   "metadata": {},
   "source": [
    "###  Implementing Descision Tree Classifier"
   ]
  },
  {
   "cell_type": "code",
   "execution_count": 31,
   "id": "ce38d180",
   "metadata": {},
   "outputs": [
    {
     "name": "stdout",
     "output_type": "stream",
     "text": [
      "Descision Tree\n",
      "val:\n",
      "              precision    recall  f1-score   support\n",
      "\n",
      "           0       0.84      0.86      0.85      1402\n",
      "           1       0.83      0.80      0.82      1181\n",
      "\n",
      "    accuracy                           0.83      2583\n",
      "   macro avg       0.83      0.83      0.83      2583\n",
      "weighted avg       0.83      0.83      0.83      2583\n",
      "\n"
     ]
    },
    {
     "name": "stderr",
     "output_type": "stream",
     "text": [
      "C:\\Users\\sah-1\\anaconda3\\lib\\site-packages\\sklearn\\utils\\deprecation.py:87: FutureWarning: Function plot_confusion_matrix is deprecated; Function `plot_confusion_matrix` is deprecated in 1.0 and will be removed in 1.2. Use one of the class methods: ConfusionMatrixDisplay.from_predictions or ConfusionMatrixDisplay.from_estimator.\n",
      "  warnings.warn(msg, category=FutureWarning)\n"
     ]
    },
    {
     "data": {
      "text/plain": [
       "Text(0.5, 1.0, 'Confusion matix of Descision Tree Classifier on val data')"
      ]
     },
     "execution_count": 31,
     "metadata": {},
     "output_type": "execute_result"
    },
    {
     "data": {
      "image/png": "[encoded data removed]",
      "text/plain": [
       "<Figure size 432x288 with 2 Axes>"
      ]
     },
     "metadata": {
      "needs_background": "light"
     },
     "output_type": "display_data"
    }
   ],
   "source": [
    "pipelineDT = Pipeline([\n",
    "        ('bow', CountVectorizer()),  \n",
    "        ('tfidf', TfidfTransformer()),  \n",
    "        ('c',tree.DecisionTreeClassifier())\n",
    "    ])\n",
    "fit = pipelineDT.fit(X_train['Text'],y_train)\n",
    "\n",
    "print('Descision Tree')\n",
    "print ('val:')\n",
    "pred=pipelineDT.predict(X_valid['Text'])\n",
    "\n",
    "print(metrics.classification_report(pred,y_valid))\n",
    "\n",
    "cm=plot_confusion_matrix(fit,X=X_valid['Text'],y_true=y_valid, normalize = None) \n",
    "                      #title = 'Confusion matix of LR on val data')\n",
    "cm.ax_.set_title('Confusion matix of Descision Tree Classifier on val data')"
   ]
  },
  {
   "cell_type": "markdown",
   "id": "95ab97f3",
   "metadata": {},
   "source": [
    "### DT on test set "
   ]
  },
  {
   "cell_type": "code",
   "execution_count": 32,
   "id": "03d50fca",
   "metadata": {
    "scrolled": true
   },
   "outputs": [
    {
     "name": "stdout",
     "output_type": "stream",
     "text": [
      "Descision Tree\n",
      "test:\n",
      "              precision    recall  f1-score   support\n",
      "\n",
      "           0       0.83      0.84      0.84      1378\n",
      "           1       0.82      0.80      0.81      1205\n",
      "\n",
      "    accuracy                           0.82      2583\n",
      "   macro avg       0.82      0.82      0.82      2583\n",
      "weighted avg       0.82      0.82      0.82      2583\n",
      "\n"
     ]
    },
    {
     "name": "stderr",
     "output_type": "stream",
     "text": [
      "C:\\Users\\sah-1\\anaconda3\\lib\\site-packages\\sklearn\\utils\\deprecation.py:87: FutureWarning: Function plot_confusion_matrix is deprecated; Function `plot_confusion_matrix` is deprecated in 1.0 and will be removed in 1.2. Use one of the class methods: ConfusionMatrixDisplay.from_predictions or ConfusionMatrixDisplay.from_estimator.\n",
      "  warnings.warn(msg, category=FutureWarning)\n"
     ]
    },
    {
     "data": {
      "text/plain": [
       "Text(0.5, 1.0, 'Confusion matix of Descision Tree Classifier on test data')"
      ]
     },
     "execution_count": 32,
     "metadata": {},
     "output_type": "execute_result"
    },
    {
     "data": {
      "image/png": "[encoded data removed]",
      "text/plain": [
       "<Figure size 432x288 with 2 Axes>"
      ]
     },
     "metadata": {
      "needs_background": "light"
     },
     "output_type": "display_data"
    }
   ],
   "source": [
    "print('Descision Tree')\n",
    "print ('test:')\n",
    "pred_DT=pipelineDT.predict(X_test['Text'])\n",
    "np.save('pred_DT.npy',pred_DT)\n",
    "\n",
    "print(metrics.classification_report(pred_DT,y_test))\n",
    "DT_report=metrics.classification_report(pred_DT,y_test,output_dict=True)\n",
    "DT_report=pd.DataFrame(DT_report).transpose()\n",
    "DT_report.to_csv('DT_report.csv',index=False)\n",
    "\n",
    "cm=plot_confusion_matrix(fit,X=X_test['Text'],y_true=y_test, normalize = None) \n",
    "                      #title = 'Confusion matix of DT on test data')\n",
    "cm.ax_.set_title('Confusion matix of Descision Tree Classifier on test data')"
   ]
  },
  {
   "cell_type": "code",
   "execution_count": 33,
   "id": "9eab602a",
   "metadata": {},
   "outputs": [
    {
     "data": {
      "text/plain": [
       "array([1])"
      ]
     },
     "execution_count": 33,
     "metadata": {},
     "output_type": "execute_result"
    }
   ],
   "source": [
    "text=['WHO claims covid does not need cure']\n",
    "text=[cleantext(str) for str in text]\n",
    "predtext=pipelineDT.predict(text)\n",
    "predtext"
   ]
  },
  {
   "cell_type": "markdown",
   "id": "94415137",
   "metadata": {},
   "source": [
    "###  NB"
   ]
  },
  {
   "cell_type": "code",
   "execution_count": 11,
   "id": "5811ae7c",
   "metadata": {},
   "outputs": [],
   "source": [
    "from sklearn.naive_bayes import MultinomialNB"
   ]
  },
  {
   "cell_type": "code",
   "execution_count": 12,
   "id": "a2682571",
   "metadata": {},
   "outputs": [
    {
     "name": "stdout",
     "output_type": "stream",
     "text": [
      "Descision Tree\n",
      "val:\n",
      "              precision    recall  f1-score   support\n",
      "\n",
      "           0       0.90      0.85      0.88      1521\n",
      "           1       0.80      0.87      0.83      1062\n",
      "\n",
      "    accuracy                           0.86      2583\n",
      "   macro avg       0.85      0.86      0.85      2583\n",
      "weighted avg       0.86      0.86      0.86      2583\n",
      "\n"
     ]
    },
    {
     "name": "stderr",
     "output_type": "stream",
     "text": [
      "C:\\Users\\sah-1\\anaconda3\\lib\\site-packages\\sklearn\\utils\\deprecation.py:87: FutureWarning: Function plot_confusion_matrix is deprecated; Function `plot_confusion_matrix` is deprecated in 1.0 and will be removed in 1.2. Use one of the class methods: ConfusionMatrixDisplay.from_predictions or ConfusionMatrixDisplay.from_estimator.\n",
      "  warnings.warn(msg, category=FutureWarning)\n"
     ]
    },
    {
     "data": {
      "text/plain": [
       "Text(0.5, 1.0, 'Confusion matix of Multinomial NB Classifier on val data')"
      ]
     },
     "execution_count": 12,
     "metadata": {},
     "output_type": "execute_result"
    },
    {
     "data": {
      "image/png": "[encoded data removed]",
      "text/plain": [
       "<Figure size 432x288 with 2 Axes>"
      ]
     },
     "metadata": {
      "needs_background": "light"
     },
     "output_type": "display_data"
    }
   ],
   "source": [
    "pipelineNB=Pipeline([('bow', CountVectorizer()),  \n",
    "        ('tfidf', TfidfTransformer()),  \n",
    "        ('c',MultinomialNB())\n",
    "    ])\n",
    "fit = pipelineNB.fit(X_train['Text'],y_train)\n",
    "print('Descision Tree')\n",
    "print ('val:')\n",
    "pred=pipelineNB.predict(X_valid['Text'])\n",
    "\n",
    "print(metrics.classification_report(pred,y_valid))\n",
    "\n",
    "cm=plot_confusion_matrix(fit,X=X_valid['Text'],y_true=y_valid, normalize = None) \n",
    "                      #title = 'Confusion matix of LR on val data')\n",
    "cm.ax_.set_title('Confusion matix of Multinomial NB Classifier on val data')"
   ]
  },
  {
   "cell_type": "code",
   "execution_count": 16,
   "id": "ffe337cb",
   "metadata": {},
   "outputs": [
    {
     "name": "stdout",
     "output_type": "stream",
     "text": [
      "Multinomial Naive Bayes\n",
      "test:\n",
      "              precision    recall  f1-score   support\n",
      "\n",
      "           0       0.89      0.85      0.87      1455\n",
      "           1       0.82      0.86      0.84      1128\n",
      "\n",
      "    accuracy                           0.86      2583\n",
      "   macro avg       0.85      0.86      0.85      2583\n",
      "weighted avg       0.86      0.86      0.86      2583\n",
      "\n"
     ]
    },
    {
     "name": "stderr",
     "output_type": "stream",
     "text": [
      "C:\\Users\\sah-1\\anaconda3\\lib\\site-packages\\sklearn\\utils\\deprecation.py:87: FutureWarning: Function plot_confusion_matrix is deprecated; Function `plot_confusion_matrix` is deprecated in 1.0 and will be removed in 1.2. Use one of the class methods: ConfusionMatrixDisplay.from_predictions or ConfusionMatrixDisplay.from_estimator.\n",
      "  warnings.warn(msg, category=FutureWarning)\n"
     ]
    },
    {
     "data": {
      "text/plain": [
       "Text(0.5, 1.0, 'Confusion matix of Multinomial NB Classifier on test data')"
      ]
     },
     "execution_count": 16,
     "metadata": {},
     "output_type": "execute_result"
    },
    {
     "data": {
      "image/png": "[encoded data removed]",
      "text/plain": [
       "<Figure size 432x288 with 2 Axes>"
      ]
     },
     "metadata": {
      "needs_background": "light"
     },
     "output_type": "display_data"
    }
   ],
   "source": [
    "print('Multinomial Naive Bayes')\n",
    "print ('test:')\n",
    "pred_NB=pipelineNB.predict(X_test['Text'])\n",
    "np.save('pred_NB.npy',pred_NB)\n",
    "\n",
    "print(metrics.classification_report(pred_NB,y_test))\n",
    "NB_report=metrics.classification_report(pred_NB,y_test,output_dict=True)\n",
    "NB_report=pd.DataFrame(NB_report).transpose()\n",
    "NB_report.to_csv('NB_report.csv',index=False)\n",
    "\n",
    "cm=plot_confusion_matrix(fit,X=X_test['Text'],y_true=y_test, normalize = None) \n",
    "                      #title = 'Confusion matix of NB on test data')\n",
    "cm.ax_.set_title('Confusion matix of Multinomial NB Classifier on test data')"
   ]
  },
  {
   "cell_type": "code",
   "execution_count": 14,
   "id": "903257e7",
   "metadata": {},
   "outputs": [],
   "source": [
    "filename='NB_model.sav'\n",
    "pickle.dump(pipelineNB, open(filename, 'wb'))"
   ]
  },
  {
   "cell_type": "code",
   "execution_count": null,
   "id": "d1d46ad6",
   "metadata": {},
   "outputs": [],
   "source": []
  }
 ],
 "metadata": {
  "kernelspec": {
   "display_name": "Python 3 (ipykernel)",
   "language": "python",
   "name": "python3"
  },
  "language_info": {
   "codemirror_mode": {
    "name": "ipython",
    "version": 3
   },
   "file_extension": ".py",
   "mimetype": "text/x-python",
   "name": "python",
   "nbconvert_exporter": "python",
   "pygments_lexer": "ipython3",
   "version": "3.9.12"
  }
 },
 "nbformat": 4,
 "nbformat_minor": 5
}
