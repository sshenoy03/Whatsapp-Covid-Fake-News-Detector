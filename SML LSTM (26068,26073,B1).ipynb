{
 "cells": [
  {
   "cell_type": "code",
   "execution_count": null,
   "id": "f9e00615",
   "metadata": {},
   "outputs": [],
   "source": []
  },
  {
   "cell_type": "code",
   "execution_count": 1,
   "id": "b97fe095",
   "metadata": {},
   "outputs": [],
   "source": [
    "import pandas as pd \n",
    "import numpy as np \n",
    "import nltk\n",
    "import re\n",
    "from nltk.corpus import stopwords\n",
    "import matplotlib.pyplot as plt \n",
    "import plotly.express as px\n",
    "# from wordcloud import WordCloud, STOPWORDS \n",
    "# from wordcloud import STOPWORDS\n",
    "# from collections import Counter \n",
    "# from textblob import TextBlob\n",
    "# stopwords = set(STOPWORDS) \n",
    "import pickle\n",
    "# import pyLDAvis.sklearn\n",
    "from nltk.probability import FreqDist\n",
    "# from sklearn.feature_extraction.text import CountVectorizer\n",
    "# from sklearn.feature_extraction.text import TfidfVectorizer\n",
    "from sklearn.decomposition import LatentDirichletAllocation, NMF\n",
    "# from wordcloud import WordCloud, ImageColorGenerator\n",
    "import seaborn as sns\n",
    "%matplotlib inline\n",
    "from sklearn.metrics import classification_report,confusion_matrix\n",
    "from sklearn.metrics import accuracy_score, f1_score, precision_score, recall_score\n",
    "from sklearn.svm import LinearSVC\n",
    "from sklearn.pipeline import Pipeline\n",
    "from sklearn.linear_model import SGDClassifier, LogisticRegression\n",
    "from sklearn.feature_extraction.text import CountVectorizer, TfidfTransformer\n",
    "from sklearn.ensemble import GradientBoostingClassifier\n",
    "from sklearn import tree\n",
    "from sklearn import metrics\n",
    "from sklearn.metrics import plot_confusion_matrix\n",
    "from sklearn.model_selection import GridSearchCV\n",
    "from nltk.stem.porter import *\n",
    "from tensorflow.keras.preprocessing.text import one_hot\n",
    "#Deep learning libraries\n",
    "from tensorflow import keras\n",
    "from tensorflow.keras.layers import Embedding\n",
    "from tensorflow.keras.preprocessing.sequence import pad_sequences\n",
    "from tensorflow.keras.models import Sequential\n",
    "from tensorflow.keras.preprocessing.text import one_hot\n",
    "from tensorflow.keras.layers import LSTM\n",
    "from tensorflow.keras.layers import Bidirectional\n",
    "from tensorflow.keras.layers import Dense\n",
    "from tensorflow.keras.layers import Dropout\n",
    "from tensorflow.keras.callbacks import ModelCheckpoint\n",
    "import tqdm\n",
    "from nltk.tokenize import word_tokenize\n",
    "from tensorflow.keras import regularizers, initializers, optimizers, callbacks\n",
    "\n",
    "from tensorflow.keras.preprocessing.text import Tokenizer\n",
    "from nltk.stem.wordnet import WordNetLemmatizer\n",
    "from tensorflow.keras.layers import *\n",
    "from tensorflow.keras.models import Model"
   ]
  },
  {
   "cell_type": "code",
   "execution_count": 2,
   "id": "3b47f0c4",
   "metadata": {},
   "outputs": [],
   "source": [
    "stop=set(stopwords.words('english'))"
   ]
  },
  {
   "cell_type": "code",
   "execution_count": 3,
   "id": "598dc9d4",
   "metadata": {},
   "outputs": [],
   "source": [
    "final=pd.read_csv('final.csv')"
   ]
  },
  {
   "cell_type": "code",
   "execution_count": 4,
   "id": "2774f5af",
   "metadata": {},
   "outputs": [],
   "source": [
    "entire =final.copy()\n"
   ]
  },
  {
   "cell_type": "code",
   "execution_count": 5,
   "id": "d9bdffdc",
   "metadata": {},
   "outputs": [],
   "source": [
    "wordnet = WordNetLemmatizer()\n",
    "#regex = re.compile('[%s]' % re.escape(string.punctuation))"
   ]
  },
  {
   "cell_type": "code",
   "execution_count": 6,
   "id": "57429326",
   "metadata": {},
   "outputs": [],
   "source": [
    "def cleantext(string):\n",
    "    text = string.lower().split()\n",
    "    text = \" \".join(text)\n",
    "    text = re.sub(r\"http(\\S)+\",' ',text)    \n",
    "    text = re.sub(r\"www(\\S)+\",' ',text)\n",
    "    text = re.sub(r\"&\",' and ',text)  \n",
    "    tx = text.replace('&amp',' ')\n",
    "    text = re.sub(r\"[^0-9a-zA-Z]+\",' ',text)\n",
    "    text = text.split()\n",
    "    text = [w for w in text if not w in stop]\n",
    "    text=[wordnet.lemmatize(w) for w in text]\n",
    "    \n",
    "    text = \" \".join(text)\n",
    "    return text"
   ]
  },
  {
   "cell_type": "code",
   "execution_count": null,
   "id": "0bfc1e53",
   "metadata": {},
   "outputs": [],
   "source": []
  },
  {
   "cell_type": "code",
   "execution_count": null,
   "id": "73d16f3b",
   "metadata": {},
   "outputs": [],
   "source": []
  },
  {
   "cell_type": "code",
   "execution_count": 7,
   "id": "01c20c5a",
   "metadata": {},
   "outputs": [],
   "source": [
    "entire['Text']=entire['Text'].map(lambda x: cleantext(x))"
   ]
  },
  {
   "cell_type": "code",
   "execution_count": 12,
   "id": "7bfc617d",
   "metadata": {},
   "outputs": [],
   "source": [
    "y=entire['Label']"
   ]
  },
  {
   "cell_type": "code",
   "execution_count": 13,
   "id": "440c6908",
   "metadata": {},
   "outputs": [],
   "source": [
    "entire2=entire.copy()"
   ]
  },
  {
   "cell_type": "code",
   "execution_count": 14,
   "id": "855b7831",
   "metadata": {},
   "outputs": [],
   "source": [
    "# entire2.drop('Label',axis=1,inplace=True)\n"
   ]
  },
  {
   "cell_type": "code",
   "execution_count": null,
   "id": "86d1abd0",
   "metadata": {},
   "outputs": [],
   "source": []
  },
  {
   "cell_type": "markdown",
   "id": "e1510d33",
   "metadata": {},
   "source": [
    "### ALTERNATE TEXT PROCESSING"
   ]
  },
  {
   "cell_type": "code",
   "execution_count": 15,
   "id": "3f0536de",
   "metadata": {},
   "outputs": [],
   "source": [
    "MAX_NB_WORDS = 100000    # max no. of words for tokenizer\n",
    "MAX_SEQUENCE_LENGTH = 200 # max length of each entry (sentence), including padding\n",
    "VALIDATION_SPLIT = 0.2   # data for validation (not used in training)\n",
    "EMBEDDING_DIM = 100   \n",
    "GLOVE_DIR = \"glove.6B.100d.txt\""
   ]
  },
  {
   "cell_type": "code",
   "execution_count": 16,
   "id": "25bbc011",
   "metadata": {},
   "outputs": [
    {
     "name": "stdout",
     "output_type": "stream",
     "text": [
      "Tokeniser created - Saving Tokeniser\n",
      "Tokeniser saved\n"
     ]
    }
   ],
   "source": [
    "tokenizer = Tokenizer(num_words=MAX_NB_WORDS)\n",
    "tokenizer.fit_on_texts(entire2['Text'])\n",
    "    \n",
    "print(\"Tokeniser created - Saving Tokeniser\")\n",
    "    \n",
    "with open('tokenizer.pickle', 'wb') as handle:\n",
    "    pickle.dump(tokenizer, handle, protocol=pickle.HIGHEST_PROTOCOL)\n",
    "        \n",
    "print(\"Tokeniser saved\")"
   ]
  },
  {
   "cell_type": "code",
   "execution_count": 17,
   "id": "be2a1e8f",
   "metadata": {},
   "outputs": [],
   "source": [
    "def basic_text_cleaning(line_from_column):\n",
    "    # This function takes in a string, not a list or an array for the arg line_from_column\n",
    "    \n",
    "    tokenized_doc = word_tokenize(line_from_column)\n",
    "    \n",
    "    new_review = []\n",
    "    for token in tokenized_doc:\n",
    "        new_token = regex.sub(u'', token)\n",
    "        if not new_token == u'':\n",
    "            new_review.append(new_token)\n",
    "    \n",
    "    new_term_vector = []\n",
    "    for word in new_review:\n",
    "        if not word in stopwords.words('english'):\n",
    "            new_term_vector.append(word)\n",
    "    \n",
    "    final_doc = []\n",
    "    for word in new_term_vector:\n",
    "        final_doc.append(wordnet.lemmatize(word))\n",
    "    \n",
    "    return ' '.join(final_doc)"
   ]
  },
  {
   "cell_type": "code",
   "execution_count": 18,
   "id": "82480f61",
   "metadata": {},
   "outputs": [],
   "source": [
    "def get_dummies(df, col_target):\n",
    "    df_y = pd.get_dummies(df[col_target])\n",
    "    df_new = df.join(df_y)\n",
    "    df_new = df_new.drop(col_target,axis=1)\n",
    "    return df_new"
   ]
  },
  {
   "cell_type": "code",
   "execution_count": 19,
   "id": "4254d4d7",
   "metadata": {},
   "outputs": [],
   "source": [
    "def prep_features(df, labels, text):\n",
    "    y = df[labels].values\n",
    "    comments_train = df[text]\n",
    "    comments_train = list(comments_train)\n",
    "    \n",
    "    return comments_train, y"
   ]
  },
  {
   "cell_type": "code",
   "execution_count": 20,
   "id": "7ca6050f",
   "metadata": {},
   "outputs": [],
   "source": [
    "def prepare_training_test_data(texts,tokenizer,y):\n",
    "    sequences = tokenizer.texts_to_sequences(texts)\n",
    "    word_index = tokenizer.word_index\n",
    "    print('Vocabulary size:', len(word_index))\n",
    "    \n",
    "    print(\"Padding sequences\")\n",
    "    \n",
    "    data = pad_sequences(sequences, padding = 'post', maxlen = MAX_SEQUENCE_LENGTH)\n",
    "    print('Shape of data tensor:', data.shape)\n",
    "    \n",
    "    indices = np.arange(data.shape[0])\n",
    "    np.random.shuffle(indices)\n",
    "    data = data[indices]\n",
    "    labels = y[indices]\n",
    "    \n",
    "    num_validation_samples = int(VALIDATION_SPLIT*data.shape[0])\n",
    "    x_train = data[: -num_validation_samples]\n",
    "    y_train = labels[: -num_validation_samples]\n",
    "    x_val = data[-num_validation_samples: ]\n",
    "    y_val = labels[-num_validation_samples: ]\n",
    "    \n",
    "    print('Number of entries in each category:')\n",
    "    print('training: ', y_train.sum(axis=0))\n",
    "    print('validation: ', y_val.sum(axis=0))\n",
    "    \n",
    "    print('Tokenized sentences: \\n', data[0])\n",
    "    print('One hot label: \\n', labels[0])\n",
    "    \n",
    "    return x_train, y_train, x_val, y_val"
   ]
  },
  {
   "cell_type": "code",
   "execution_count": 21,
   "id": "cfe4cdd4",
   "metadata": {},
   "outputs": [
    {
     "data": {
      "text/html": [
       "<div>\n",
       "<style scoped>\n",
       "    .dataframe tbody tr th:only-of-type {\n",
       "        vertical-align: middle;\n",
       "    }\n",
       "\n",
       "    .dataframe tbody tr th {\n",
       "        vertical-align: top;\n",
       "    }\n",
       "\n",
       "    .dataframe thead th {\n",
       "        text-align: right;\n",
       "    }\n",
       "</style>\n",
       "<table border=\"1\" class=\"dataframe\">\n",
       "  <thead>\n",
       "    <tr style=\"text-align: right;\">\n",
       "      <th></th>\n",
       "      <th>0</th>\n",
       "      <th>1</th>\n",
       "    </tr>\n",
       "  </thead>\n",
       "  <tbody>\n",
       "    <tr>\n",
       "      <th>0</th>\n",
       "      <td>1</td>\n",
       "      <td>0</td>\n",
       "    </tr>\n",
       "    <tr>\n",
       "      <th>1</th>\n",
       "      <td>0</td>\n",
       "      <td>1</td>\n",
       "    </tr>\n",
       "    <tr>\n",
       "      <th>2</th>\n",
       "      <td>0</td>\n",
       "      <td>1</td>\n",
       "    </tr>\n",
       "    <tr>\n",
       "      <th>3</th>\n",
       "      <td>1</td>\n",
       "      <td>0</td>\n",
       "    </tr>\n",
       "    <tr>\n",
       "      <th>4</th>\n",
       "      <td>1</td>\n",
       "      <td>0</td>\n",
       "    </tr>\n",
       "  </tbody>\n",
       "</table>\n",
       "</div>"
      ],
      "text/plain": [
       "   0  1\n",
       "0  1  0\n",
       "1  0  1\n",
       "2  0  1\n",
       "3  1  0\n",
       "4  1  0"
      ]
     },
     "execution_count": 21,
     "metadata": {},
     "output_type": "execute_result"
    }
   ],
   "source": [
    "df_labels =  pd.get_dummies(entire2[\"Label\"])\n",
    "df_labels = df_labels.reset_index()\n",
    "df_labels = df_labels.drop(\"index\",axis=1)\n",
    "df_labels.head()"
   ]
  },
  {
   "cell_type": "code",
   "execution_count": 23,
   "id": "5012e0a5",
   "metadata": {},
   "outputs": [
    {
     "data": {
      "text/html": [
       "<div>\n",
       "<style scoped>\n",
       "    .dataframe tbody tr th:only-of-type {\n",
       "        vertical-align: middle;\n",
       "    }\n",
       "\n",
       "    .dataframe tbody tr th {\n",
       "        vertical-align: top;\n",
       "    }\n",
       "\n",
       "    .dataframe thead th {\n",
       "        text-align: right;\n",
       "    }\n",
       "</style>\n",
       "<table border=\"1\" class=\"dataframe\">\n",
       "  <thead>\n",
       "    <tr style=\"text-align: right;\">\n",
       "      <th></th>\n",
       "      <th>Text</th>\n",
       "      <th>0</th>\n",
       "      <th>1</th>\n",
       "    </tr>\n",
       "  </thead>\n",
       "  <tbody>\n",
       "    <tr>\n",
       "      <th>0</th>\n",
       "      <td>coronavirus india amid covid 19 worry governme...</td>\n",
       "      <td>1</td>\n",
       "      <td>0</td>\n",
       "    </tr>\n",
       "    <tr>\n",
       "      <th>1</th>\n",
       "      <td>claim stated india top business conglomerate t...</td>\n",
       "      <td>0</td>\n",
       "      <td>1</td>\n",
       "    </tr>\n",
       "    <tr>\n",
       "      <th>2</th>\n",
       "      <td>facebook post shared hundred time claim u pres...</td>\n",
       "      <td>0</td>\n",
       "      <td>1</td>\n",
       "    </tr>\n",
       "    <tr>\n",
       "      <th>3</th>\n",
       "      <td>29 new covid 19 case reported china delivery m...</td>\n",
       "      <td>1</td>\n",
       "      <td>0</td>\n",
       "    </tr>\n",
       "    <tr>\n",
       "      <th>4</th>\n",
       "      <td>uk hospital covid 19 death toll rise 761 12 86...</td>\n",
       "      <td>1</td>\n",
       "      <td>0</td>\n",
       "    </tr>\n",
       "  </tbody>\n",
       "</table>\n",
       "</div>"
      ],
      "text/plain": [
       "                                                Text  0  1\n",
       "0  coronavirus india amid covid 19 worry governme...  1  0\n",
       "1  claim stated india top business conglomerate t...  0  1\n",
       "2  facebook post shared hundred time claim u pres...  0  1\n",
       "3  29 new covid 19 case reported china delivery m...  1  0\n",
       "4  uk hospital covid 19 death toll rise 761 12 86...  1  0"
      ]
     },
     "execution_count": 23,
     "metadata": {},
     "output_type": "execute_result"
    }
   ],
   "source": [
    "entire3= get_dummies(df=entire2, col_target=\"Label\")\n",
    "entire3.head()"
   ]
  },
  {
   "cell_type": "code",
   "execution_count": null,
   "id": "1742a688",
   "metadata": {},
   "outputs": [],
   "source": []
  },
  {
   "cell_type": "code",
   "execution_count": 27,
   "id": "824b3e76",
   "metadata": {},
   "outputs": [
    {
     "name": "stdout",
     "output_type": "stream",
     "text": [
      "coronavirus india amid covid 19 worry government diy step homemade mask ndtvnewsbeeps pic twitter com xzrqsixftx\n",
      "[1 0]\n"
     ]
    }
   ],
   "source": [
    "x_train, y_train = prep_features(df=entire3, labels=[0,1], text=\"Text\")\n",
    "print(x_train[0])\n",
    "print(y_train[0])\n"
   ]
  },
  {
   "cell_type": "code",
   "execution_count": 28,
   "id": "a8b343b9",
   "metadata": {},
   "outputs": [],
   "source": [
    "# corpus=list(entire2['Text'])\n",
    "# y=entire2['Label']"
   ]
  },
  {
   "cell_type": "code",
   "execution_count": 26,
   "id": "e5d56afe",
   "metadata": {},
   "outputs": [
    {
     "data": {
      "text/plain": [
       "0        0\n",
       "1        1\n",
       "2        1\n",
       "3        0\n",
       "4        0\n",
       "        ..\n",
       "25824    0\n",
       "25825    1\n",
       "25826    0\n",
       "25827    0\n",
       "25828    0\n",
       "Name: Label, Length: 25829, dtype: int64"
      ]
     },
     "execution_count": 26,
     "metadata": {},
     "output_type": "execute_result"
    }
   ],
   "source": [
    "y"
   ]
  },
  {
   "cell_type": "code",
   "execution_count": 29,
   "id": "2c3ad941",
   "metadata": {},
   "outputs": [
    {
     "name": "stdout",
     "output_type": "stream",
     "text": [
      "Vocabulary size: 30739\n",
      "Padding sequences\n",
      "Shape of data tensor: (25829, 200)\n",
      "Number of entries in each category:\n",
      "training:  [11426  9238]\n",
      "validation:  [2793 2372]\n",
      "Tokenized sentences: \n",
      " [ 171  976  239  383  296  441 3751 3674 1410 2149 1047 3371  244 1184\n",
      "  296 1853  402    1    2  239 1341   91  957 1471 1011 1517   72 1341\n",
      "    0    0    0    0    0    0    0    0    0    0    0    0    0    0\n",
      "    0    0    0    0    0    0    0    0    0    0    0    0    0    0\n",
      "    0    0    0    0    0    0    0    0    0    0    0    0    0    0\n",
      "    0    0    0    0    0    0    0    0    0    0    0    0    0    0\n",
      "    0    0    0    0    0    0    0    0    0    0    0    0    0    0\n",
      "    0    0    0    0    0    0    0    0    0    0    0    0    0    0\n",
      "    0    0    0    0    0    0    0    0    0    0    0    0    0    0\n",
      "    0    0    0    0    0    0    0    0    0    0    0    0    0    0\n",
      "    0    0    0    0    0    0    0    0    0    0    0    0    0    0\n",
      "    0    0    0    0    0    0    0    0    0    0    0    0    0    0\n",
      "    0    0    0    0    0    0    0    0    0    0    0    0    0    0\n",
      "    0    0    0    0    0    0    0    0    0    0    0    0    0    0\n",
      "    0    0    0    0]\n",
      "One hot label: \n",
      " [1 0]\n"
     ]
    }
   ],
   "source": [
    "x_train,y_train,x_test,y_test = prepare_training_test_data(texts=x_train,tokenizer=tokenizer,y=y_train)"
   ]
  },
  {
   "cell_type": "code",
   "execution_count": 30,
   "id": "60102300",
   "metadata": {},
   "outputs": [],
   "source": [
    "# y_train=tf.one_hot(y_train,depth2)\n",
    "# y_test=tf.one_hot(y_train,depth2)"
   ]
  },
  {
   "cell_type": "code",
   "execution_count": 31,
   "id": "6019ef42",
   "metadata": {},
   "outputs": [
    {
     "name": "stdout",
     "output_type": "stream",
     "text": [
      "Loading GloVe from: glove.6B.100d.txt ...Done.\n",
      " Proceeding with Embedding Matrix... Completed!\n"
     ]
    }
   ],
   "source": [
    "embeddings_index = {}\n",
    "word_index = tokenizer.word_index\n",
    "f = open(GLOVE_DIR, encoding=\"utf8\")\n",
    "print('Loading GloVe from:', GLOVE_DIR,'...', end='')\n",
    "for line in f:\n",
    "    values = line.split()\n",
    "    word = values[0]\n",
    "    embeddings_index[word] = np.asarray(values[1:], dtype='float32')\n",
    "f.close()\n",
    "print(\"Done.\\n Proceeding with Embedding Matrix...\", end=\"\")\n",
    "\n",
    "embedding_matrix = np.random.random((len(word_index) + 1, EMBEDDING_DIM))\n",
    "for word, i in word_index.items():\n",
    "    embedding_vector = embeddings_index.get(word)\n",
    "    if embedding_vector is not None:\n",
    "        embedding_matrix[i] = embedding_vector\n",
    "print(\" Completed!\")"
   ]
  },
  {
   "cell_type": "code",
   "execution_count": 32,
   "id": "ab629860",
   "metadata": {},
   "outputs": [],
   "source": [
    "sequence_input = Input(shape=(MAX_SEQUENCE_LENGTH,), dtype='int32')\n",
    "embedding_layer = Embedding(len(word_index) + 1,\n",
    "                           EMBEDDING_DIM,\n",
    "                           weights = [embedding_matrix],\n",
    "                           input_length = MAX_SEQUENCE_LENGTH,\n",
    "                           trainable=False,\n",
    "                           name = 'embeddings')\n",
    "embedded_sequences = embedding_layer(sequence_input)"
   ]
  },
  {
   "cell_type": "code",
   "execution_count": 33,
   "id": "88d795d7",
   "metadata": {},
   "outputs": [],
   "source": [
    "x = LSTM(60, return_sequences=True,name='lstm_layer')(embedded_sequences)\n",
    "x = GlobalMaxPool1D()(x)\n",
    "x = Dropout(0.1)(x)\n",
    "x = Dense(50, activation=\"relu\")(x)\n",
    "x = Dropout(0.1)(x)\n",
    "preds = Dense(2, activation=\"sigmoid\")(x)"
   ]
  },
  {
   "cell_type": "code",
   "execution_count": 34,
   "id": "8c8d1367",
   "metadata": {},
   "outputs": [
    {
     "name": "stdout",
     "output_type": "stream",
     "text": [
      "Model: \"model\"\n",
      "_________________________________________________________________\n",
      " Layer (type)                Output Shape              Param #   \n",
      "=================================================================\n",
      " input_1 (InputLayer)        [(None, 200)]             0         \n",
      "                                                                 \n",
      " embeddings (Embedding)      (None, 200, 100)          3074000   \n",
      "                                                                 \n",
      " lstm_layer (LSTM)           (None, 200, 60)           38640     \n",
      "                                                                 \n",
      " global_max_pooling1d (Globa  (None, 60)               0         \n",
      " lMaxPooling1D)                                                  \n",
      "                                                                 \n",
      " dropout (Dropout)           (None, 60)                0         \n",
      "                                                                 \n",
      " dense (Dense)               (None, 50)                3050      \n",
      "                                                                 \n",
      " dropout_1 (Dropout)         (None, 50)                0         \n",
      "                                                                 \n",
      " dense_1 (Dense)             (None, 2)                 102       \n",
      "                                                                 \n",
      "=================================================================\n",
      "Total params: 3,115,792\n",
      "Trainable params: 41,792\n",
      "Non-trainable params: 3,074,000\n",
      "_________________________________________________________________\n"
     ]
    }
   ],
   "source": [
    "model = Model(sequence_input, preds)\n",
    "model.compile(loss = 'binary_crossentropy',\n",
    "             optimizer='adam',\n",
    "             metrics = ['accuracy'])\n",
    "model.summary()"
   ]
  },
  {
   "cell_type": "code",
   "execution_count": 38,
   "id": "f30f389e",
   "metadata": {},
   "outputs": [],
   "source": [
    "# checkpoint\n",
    "filepath=\"weights.best.hdf5\"\n",
    "checkpoint = ModelCheckpoint(filepath, monitor='val_accuracy', verbose=1, save_best_only=True, mode='max')\n",
    "callbacks_list = [checkpoint]\n"
   ]
  },
  {
   "cell_type": "code",
   "execution_count": 39,
   "id": "bdbe374b",
   "metadata": {},
   "outputs": [
    {
     "name": "stdout",
     "output_type": "stream",
     "text": [
      "Training progress:\n",
      "Epoch 1/20\n",
      "645/646 [============================>.] - ETA: 0s - loss: 0.2788 - accuracy: 0.8820\n",
      "Epoch 1: val_accuracy improved from -inf to 0.86989, saving model to weights.best.hdf5\n",
      "646/646 [==============================] - 42s 64ms/step - loss: 0.2786 - accuracy: 0.8821 - val_loss: 0.3085 - val_accuracy: 0.8699\n",
      "Epoch 2/20\n",
      "646/646 [==============================] - ETA: 0s - loss: 0.2422 - accuracy: 0.9010\n",
      "Epoch 2: val_accuracy improved from 0.86989 to 0.87086, saving model to weights.best.hdf5\n",
      "646/646 [==============================] - 42s 65ms/step - loss: 0.2422 - accuracy: 0.9010 - val_loss: 0.3122 - val_accuracy: 0.8709\n",
      "Epoch 3/20\n",
      "645/646 [============================>.] - ETA: 0s - loss: 0.2118 - accuracy: 0.9133\n",
      "Epoch 3: val_accuracy did not improve from 0.87086\n",
      "646/646 [==============================] - 44s 68ms/step - loss: 0.2118 - accuracy: 0.9133 - val_loss: 0.3221 - val_accuracy: 0.8699\n",
      "Epoch 4/20\n",
      "646/646 [==============================] - ETA: 0s - loss: 0.1952 - accuracy: 0.9194\n",
      "Epoch 4: val_accuracy improved from 0.87086 to 0.87957, saving model to weights.best.hdf5\n",
      "646/646 [==============================] - 90s 140ms/step - loss: 0.1952 - accuracy: 0.9194 - val_loss: 0.3065 - val_accuracy: 0.8796\n",
      "Epoch 5/20\n",
      "646/646 [==============================] - ETA: 0s - loss: 0.1694 - accuracy: 0.9328\n",
      "Epoch 5: val_accuracy did not improve from 0.87957\n",
      "646/646 [==============================] - 96s 149ms/step - loss: 0.1694 - accuracy: 0.9328 - val_loss: 0.3194 - val_accuracy: 0.8786\n",
      "Epoch 6/20\n",
      "646/646 [==============================] - ETA: 0s - loss: 0.1491 - accuracy: 0.9427\n",
      "Epoch 6: val_accuracy did not improve from 0.87957\n",
      "646/646 [==============================] - 97s 150ms/step - loss: 0.1491 - accuracy: 0.9427 - val_loss: 0.3505 - val_accuracy: 0.8747\n",
      "Epoch 7/20\n",
      "646/646 [==============================] - ETA: 0s - loss: 0.1349 - accuracy: 0.9498\n",
      "Epoch 7: val_accuracy did not improve from 0.87957\n",
      "646/646 [==============================] - 96s 149ms/step - loss: 0.1349 - accuracy: 0.9498 - val_loss: 0.3555 - val_accuracy: 0.8794\n",
      "Epoch 8/20\n",
      "646/646 [==============================] - ETA: 0s - loss: 0.1229 - accuracy: 0.9522\n",
      "Epoch 8: val_accuracy did not improve from 0.87957\n",
      "646/646 [==============================] - 96s 149ms/step - loss: 0.1229 - accuracy: 0.9522 - val_loss: 0.3697 - val_accuracy: 0.8730\n",
      "Epoch 9/20\n",
      "645/646 [============================>.] - ETA: 0s - loss: 0.1083 - accuracy: 0.9597\n",
      "Epoch 9: val_accuracy did not improve from 0.87957\n",
      "646/646 [==============================] - 71s 110ms/step - loss: 0.1083 - accuracy: 0.9597 - val_loss: 0.3783 - val_accuracy: 0.8773\n",
      "Epoch 10/20\n",
      "646/646 [==============================] - ETA: 0s - loss: 0.0993 - accuracy: 0.9630\n",
      "Epoch 10: val_accuracy improved from 0.87957 to 0.88074, saving model to weights.best.hdf5\n",
      "646/646 [==============================] - 59s 91ms/step - loss: 0.0993 - accuracy: 0.9630 - val_loss: 0.3864 - val_accuracy: 0.8807\n",
      "Epoch 11/20\n",
      "646/646 [==============================] - ETA: 0s - loss: 0.0865 - accuracy: 0.9678\n",
      "Epoch 11: val_accuracy did not improve from 0.88074\n",
      "646/646 [==============================] - 62s 96ms/step - loss: 0.0865 - accuracy: 0.9678 - val_loss: 0.4048 - val_accuracy: 0.8776\n",
      "Epoch 12/20\n",
      "646/646 [==============================] - ETA: 0s - loss: 0.0790 - accuracy: 0.9701\n",
      "Epoch 12: val_accuracy did not improve from 0.88074\n",
      "646/646 [==============================] - 61s 95ms/step - loss: 0.0790 - accuracy: 0.9701 - val_loss: 0.3879 - val_accuracy: 0.8784\n",
      "Epoch 13/20\n",
      "646/646 [==============================] - ETA: 0s - loss: 0.0729 - accuracy: 0.9727\n",
      "Epoch 13: val_accuracy did not improve from 0.88074\n",
      "646/646 [==============================] - 54s 84ms/step - loss: 0.0729 - accuracy: 0.9727 - val_loss: 0.4411 - val_accuracy: 0.8763\n",
      "Epoch 14/20\n",
      "646/646 [==============================] - ETA: 0s - loss: 0.0685 - accuracy: 0.9759\n",
      "Epoch 14: val_accuracy did not improve from 0.88074\n",
      "646/646 [==============================] - 52s 81ms/step - loss: 0.0685 - accuracy: 0.9759 - val_loss: 0.4346 - val_accuracy: 0.8805\n",
      "Epoch 15/20\n",
      "646/646 [==============================] - ETA: 0s - loss: 0.0594 - accuracy: 0.9789\n",
      "Epoch 15: val_accuracy did not improve from 0.88074\n",
      "646/646 [==============================] - 54s 84ms/step - loss: 0.0594 - accuracy: 0.9789 - val_loss: 0.4881 - val_accuracy: 0.8765\n",
      "Epoch 16/20\n",
      "646/646 [==============================] - ETA: 0s - loss: 0.0573 - accuracy: 0.9798\n",
      "Epoch 16: val_accuracy did not improve from 0.88074\n",
      "646/646 [==============================] - 57s 89ms/step - loss: 0.0573 - accuracy: 0.9798 - val_loss: 0.5011 - val_accuracy: 0.8780\n",
      "Epoch 17/20\n",
      "646/646 [==============================] - ETA: 0s - loss: 0.0527 - accuracy: 0.9814\n",
      "Epoch 17: val_accuracy did not improve from 0.88074\n",
      "646/646 [==============================] - 57s 89ms/step - loss: 0.0527 - accuracy: 0.9814 - val_loss: 0.4910 - val_accuracy: 0.8782\n",
      "Epoch 18/20\n",
      "646/646 [==============================] - ETA: 0s - loss: 0.0493 - accuracy: 0.9826\n",
      "Epoch 18: val_accuracy did not improve from 0.88074\n",
      "646/646 [==============================] - 53s 82ms/step - loss: 0.0493 - accuracy: 0.9826 - val_loss: 0.5561 - val_accuracy: 0.8749\n",
      "Epoch 19/20\n",
      "646/646 [==============================] - ETA: 0s - loss: 0.0447 - accuracy: 0.9851\n",
      "Epoch 19: val_accuracy did not improve from 0.88074\n",
      "646/646 [==============================] - 52s 81ms/step - loss: 0.0447 - accuracy: 0.9851 - val_loss: 0.5471 - val_accuracy: 0.8776\n",
      "Epoch 20/20\n",
      "646/646 [==============================] - ETA: 0s - loss: 0.0479 - accuracy: 0.9822\n",
      "Epoch 20: val_accuracy did not improve from 0.88074\n",
      "646/646 [==============================] - 65s 101ms/step - loss: 0.0479 - accuracy: 0.9822 - val_loss: 0.5288 - val_accuracy: 0.8778\n"
     ]
    }
   ],
   "source": [
    "print('Training progress:')\n",
    "history = model.fit(x_train, y_train, epochs = 20, batch_size=32,callbacks=callbacks_list, validation_data=(x_test, y_test),verbose=1)"
   ]
  },
  {
   "cell_type": "code",
   "execution_count": 40,
   "id": "8c11df36",
   "metadata": {},
   "outputs": [],
   "source": [
    "model.save(\"LSTM_model_1.h5\")"
   ]
  },
  {
   "cell_type": "code",
   "execution_count": 41,
   "id": "1a80ebfb",
   "metadata": {},
   "outputs": [
    {
     "name": "stdout",
     "output_type": "stream",
     "text": [
      "Saved model to disk\n"
     ]
    }
   ],
   "source": [
    "# serialize model to JSON\n",
    "model_json = model.to_json()\n",
    "with open(\"LSTM_model.json\", \"w\") as json_file:\n",
    "    json_file.write(model_json)\n",
    "# serialize weights to HDF5\n",
    "model.save_weights(\"model_weights.h5\")\n",
    "print(\"Saved model to disk\")"
   ]
  },
  {
   "cell_type": "code",
   "execution_count": 42,
   "id": "803fb99a",
   "metadata": {},
   "outputs": [],
   "source": [
    "import matplotlib.pyplot as plt"
   ]
  },
  {
   "cell_type": "code",
   "execution_count": 43,
   "id": "88e36364",
   "metadata": {},
   "outputs": [
    {
     "data": {
      "image/png": "[encoded data removed]",
      "text/plain": [
       "<Figure size 432x288 with 1 Axes>"
      ]
     },
     "metadata": {
      "needs_background": "light"
     },
     "output_type": "display_data"
    }
   ],
   "source": [
    "loss = history.history['loss']\n",
    "val_loss = history.history['val_loss']\n",
    "\n",
    "epochs = range(1, len(loss)+1)\n",
    "\n",
    "plt.plot(epochs, loss, label='Training loss')\n",
    "plt.plot(epochs, val_loss, label='Validation loss')\n",
    "plt.title('Training and validation loss')\n",
    "plt.xlabel('Epochs')\n",
    "plt.ylabel('Loss')\n",
    "plt.legend()\n",
    "plt.show();"
   ]
  },
  {
   "cell_type": "code",
   "execution_count": 45,
   "id": "aa54df17",
   "metadata": {},
   "outputs": [],
   "source": [
    "def predict(model,i):\n",
    "    clean_text =[]\n",
    "    \n",
    "    i = cleantext(i)\n",
    "    clean_text.append(i)\n",
    "    sequences = tokenizer.texts_to_sequences(clean_text)\n",
    "    data = pad_sequences(sequences, padding = 'post', maxlen = MAX_SEQUENCE_LENGTH)\n",
    "    pred = model.predict(data)\n",
    "    return pred"
   ]
  },
  {
   "cell_type": "code",
   "execution_count": 50,
   "id": "7a37ab90",
   "metadata": {},
   "outputs": [
    {
     "name": "stdout",
     "output_type": "stream",
     "text": [
      "162/162 [==============================] - 6s 37ms/step\n"
     ]
    }
   ],
   "source": [
    "y_test_pred=model.predict(x_test).argmax(axis=-1)"
   ]
  },
  {
   "cell_type": "code",
   "execution_count": 57,
   "id": "1e271631",
   "metadata": {},
   "outputs": [
    {
     "data": {
      "text/plain": [
       "array([0, 1, 0, ..., 1, 0, 0], dtype=int64)"
      ]
     },
     "execution_count": 57,
     "metadata": {},
     "output_type": "execute_result"
    }
   ],
   "source": [
    "y_test_pred"
   ]
  },
  {
   "cell_type": "code",
   "execution_count": 85,
   "id": "c8b78ba0",
   "metadata": {},
   "outputs": [
    {
     "data": {
      "text/plain": [
       "5165"
      ]
     },
     "execution_count": 85,
     "metadata": {},
     "output_type": "execute_result"
    }
   ],
   "source": [
    "len(y_test_pred)"
   ]
  },
  {
   "cell_type": "code",
   "execution_count": 55,
   "id": "12b90ccf",
   "metadata": {},
   "outputs": [
    {
     "data": {
      "text/plain": [
       "array([[1, 0],\n",
       "       [0, 1],\n",
       "       [1, 0],\n",
       "       ...,\n",
       "       [0, 1],\n",
       "       [1, 0],\n",
       "       [0, 1]], dtype=uint8)"
      ]
     },
     "execution_count": 55,
     "metadata": {},
     "output_type": "execute_result"
    }
   ],
   "source": [
    "y_test"
   ]
  },
  {
   "cell_type": "code",
   "execution_count": 84,
   "id": "4fbfcabe",
   "metadata": {},
   "outputs": [
    {
     "data": {
      "text/plain": [
       "5165"
      ]
     },
     "execution_count": 84,
     "metadata": {},
     "output_type": "execute_result"
    }
   ],
   "source": [
    "len(y_test)"
   ]
  },
  {
   "cell_type": "code",
   "execution_count": 91,
   "id": "4a643021",
   "metadata": {},
   "outputs": [],
   "source": [
    "y_test_new=[]"
   ]
  },
  {
   "cell_type": "code",
   "execution_count": 92,
   "id": "01cc0c21",
   "metadata": {},
   "outputs": [],
   "source": [
    "for i in range(0,len(y_test)):\n",
    "    if y_test[i][0]==1:\n",
    "        y_test_new.append(0)\n",
    "    else:\n",
    "        y_test_new.append(1)"
   ]
  },
  {
   "cell_type": "code",
   "execution_count": 94,
   "id": "0232ea36",
   "metadata": {},
   "outputs": [
    {
     "data": {
      "text/plain": [
       "5165"
      ]
     },
     "execution_count": 94,
     "metadata": {},
     "output_type": "execute_result"
    }
   ],
   "source": [
    "len(y_test_new)"
   ]
  },
  {
   "cell_type": "code",
   "execution_count": 95,
   "id": "3c7dc5d5",
   "metadata": {},
   "outputs": [],
   "source": [
    "y_test_new=np.array(y_test_new)"
   ]
  },
  {
   "cell_type": "code",
   "execution_count": 96,
   "id": "e93608b3",
   "metadata": {},
   "outputs": [
    {
     "data": {
      "text/plain": [
       "5165"
      ]
     },
     "execution_count": 96,
     "metadata": {},
     "output_type": "execute_result"
    }
   ],
   "source": [
    "len(y_test_new)"
   ]
  },
  {
   "cell_type": "code",
   "execution_count": 76,
   "id": "963ee83a",
   "metadata": {},
   "outputs": [],
   "source": [
    "test='WHO claims Cancer cures covid'"
   ]
  },
  {
   "cell_type": "code",
   "execution_count": 77,
   "id": "6db9d5d1",
   "metadata": {},
   "outputs": [
    {
     "name": "stdout",
     "output_type": "stream",
     "text": [
      "1/1 [==============================] - 0s 35ms/step\n"
     ]
    }
   ],
   "source": [
    "y_pred= predict(model=model,i=test).argmax(axis=-1)"
   ]
  },
  {
   "cell_type": "code",
   "execution_count": 78,
   "id": "06e5cb64",
   "metadata": {},
   "outputs": [
    {
     "data": {
      "text/plain": [
       "array([1], dtype=int64)"
      ]
     },
     "execution_count": 78,
     "metadata": {},
     "output_type": "execute_result"
    }
   ],
   "source": [
    "y_pred"
   ]
  },
  {
   "cell_type": "code",
   "execution_count": 97,
   "id": "f290b0f3",
   "metadata": {},
   "outputs": [],
   "source": [
    "np.save('X_train_deep2.npy',x_train)\n",
    "np.save('X_test_deep2.npy',x_test)\n",
    "np.save('y_train_deep2.npy',y_train)\n",
    "np.save('y_test_deep2.npy',y_test)\n",
    "np.save('y_test_deep2_new.npy',y_test_new)\n",
    "np.save('y_pred_deep2.npy',y_test_pred)\n"
   ]
  },
  {
   "cell_type": "code",
   "execution_count": 98,
   "id": "1a72ddb3",
   "metadata": {},
   "outputs": [],
   "source": [
    "#Confusion matrix\n",
    "cm = metrics.confusion_matrix(y_test_new, y_test_pred)"
   ]
  },
  {
   "cell_type": "code",
   "execution_count": 101,
   "id": "12be3d83",
   "metadata": {},
   "outputs": [
    {
     "name": "stdout",
     "output_type": "stream",
     "text": [
      "Confusion matrix for LSTM model on test data \n"
     ]
    },
    {
     "data": {
      "image/png": "[encoded data removed]",
      "text/plain": [
       "<Figure size 432x288 with 2 Axes>"
      ]
     },
     "metadata": {
      "needs_background": "light"
     },
     "output_type": "display_data"
    }
   ],
   "source": [
    "LSTM_report=metrics.classification_report(y_test_pred,y_test_new,output_dict=True)\n",
    "LSTM_report=pd.DataFrame(LSTM_report).transpose()\n",
    "LSTM_report.to_csv('LSTM_report.csv',index=False)\n",
    "\n",
    "\n",
    "\n",
    "disp=metrics.ConfusionMatrixDisplay(cm,display_labels=[\"True\",\"False\"])\n",
    "print(\"Confusion matrix for LSTM model on test data \")\n",
    "disp.plot()\n",
    "plt.show()"
   ]
  },
  {
   "cell_type": "code",
   "execution_count": 102,
   "id": "f51ae42b",
   "metadata": {},
   "outputs": [
    {
     "name": "stdout",
     "output_type": "stream",
     "text": [
      "Confusion matrix for LSTM model on test data \n"
     ]
    },
    {
     "data": {
      "image/png": "[encoded data removed]",
      "text/plain": [
       "<Figure size 432x288 with 2 Axes>"
      ]
     },
     "metadata": {
      "needs_background": "light"
     },
     "output_type": "display_data"
    }
   ],
   "source": [
    "disp=metrics.ConfusionMatrixDisplay(cm)\n",
    "print(\"Confusion matrix for LSTM model on test data \")\n",
    "disp.plot()\n",
    "plt.show()"
   ]
  },
  {
   "cell_type": "code",
   "execution_count": 100,
   "id": "f98739c5",
   "metadata": {},
   "outputs": [
    {
     "data": {
      "text/html": [
       "<div>\n",
       "<style scoped>\n",
       "    .dataframe tbody tr th:only-of-type {\n",
       "        vertical-align: middle;\n",
       "    }\n",
       "\n",
       "    .dataframe tbody tr th {\n",
       "        vertical-align: top;\n",
       "    }\n",
       "\n",
       "    .dataframe thead th {\n",
       "        text-align: right;\n",
       "    }\n",
       "</style>\n",
       "<table border=\"1\" class=\"dataframe\">\n",
       "  <thead>\n",
       "    <tr style=\"text-align: right;\">\n",
       "      <th></th>\n",
       "      <th>precision</th>\n",
       "      <th>recall</th>\n",
       "      <th>f1-score</th>\n",
       "      <th>support</th>\n",
       "    </tr>\n",
       "  </thead>\n",
       "  <tbody>\n",
       "    <tr>\n",
       "      <th>0</th>\n",
       "      <td>0.906910</td>\n",
       "      <td>0.872245</td>\n",
       "      <td>0.889240</td>\n",
       "      <td>2904.000000</td>\n",
       "    </tr>\n",
       "    <tr>\n",
       "      <th>1</th>\n",
       "      <td>0.843592</td>\n",
       "      <td>0.885007</td>\n",
       "      <td>0.863803</td>\n",
       "      <td>2261.000000</td>\n",
       "    </tr>\n",
       "    <tr>\n",
       "      <th>accuracy</th>\n",
       "      <td>0.877832</td>\n",
       "      <td>0.877832</td>\n",
       "      <td>0.877832</td>\n",
       "      <td>0.877832</td>\n",
       "    </tr>\n",
       "    <tr>\n",
       "      <th>macro avg</th>\n",
       "      <td>0.875251</td>\n",
       "      <td>0.878626</td>\n",
       "      <td>0.876522</td>\n",
       "      <td>5165.000000</td>\n",
       "    </tr>\n",
       "    <tr>\n",
       "      <th>weighted avg</th>\n",
       "      <td>0.879192</td>\n",
       "      <td>0.877832</td>\n",
       "      <td>0.878105</td>\n",
       "      <td>5165.000000</td>\n",
       "    </tr>\n",
       "  </tbody>\n",
       "</table>\n",
       "</div>"
      ],
      "text/plain": [
       "              precision    recall  f1-score      support\n",
       "0              0.906910  0.872245  0.889240  2904.000000\n",
       "1              0.843592  0.885007  0.863803  2261.000000\n",
       "accuracy       0.877832  0.877832  0.877832     0.877832\n",
       "macro avg      0.875251  0.878626  0.876522  5165.000000\n",
       "weighted avg   0.879192  0.877832  0.878105  5165.000000"
      ]
     },
     "execution_count": 100,
     "metadata": {},
     "output_type": "execute_result"
    }
   ],
   "source": [
    "LSTM_report"
   ]
  },
  {
   "cell_type": "code",
   "execution_count": 126,
   "id": "47496fcc",
   "metadata": {},
   "outputs": [
    {
     "name": "stdout",
     "output_type": "stream",
     "text": [
      "1/1 [==============================] - 0s 96ms/step\n"
     ]
    }
   ],
   "source": [
    "text_pred1=(model1.predict(embedded_text) > 0.5).astype(\"int32\")"
   ]
  },
  {
   "cell_type": "code",
   "execution_count": 127,
   "id": "a8679d3c",
   "metadata": {},
   "outputs": [
    {
     "data": {
      "text/plain": [
       "array([[1]])"
      ]
     },
     "execution_count": 127,
     "metadata": {},
     "output_type": "execute_result"
    }
   ],
   "source": [
    "text_pred1"
   ]
  },
  {
   "cell_type": "code",
   "execution_count": 123,
   "id": "d77bbab4",
   "metadata": {},
   "outputs": [
    {
     "data": {
      "text/plain": [
       "'claim stated india top business conglomerate tata group chairman ratan tata said time think profits think survival'"
      ]
     },
     "execution_count": 123,
     "metadata": {},
     "output_type": "execute_result"
    }
   ],
   "source": [
    "entire.iloc[1]['Text']"
   ]
  },
  {
   "cell_type": "code",
   "execution_count": null,
   "id": "a9dbabbf",
   "metadata": {},
   "outputs": [],
   "source": []
  }
 ],
 "metadata": {
  "kernelspec": {
   "display_name": "Python 3 (ipykernel)",
   "language": "python",
   "name": "python3"
  },
  "language_info": {
   "codemirror_mode": {
    "name": "ipython",
    "version": 3
   },
   "file_extension": ".py",
   "mimetype": "text/x-python",
   "name": "python",
   "nbconvert_exporter": "python",
   "pygments_lexer": "ipython3",
   "version": "3.9.12"
  }
 },
 "nbformat": 4,
 "nbformat_minor": 5
}
