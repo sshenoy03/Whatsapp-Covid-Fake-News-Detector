{
 "cells": [
  {
   "cell_type": "code",
   "execution_count": 5,
   "id": "5a8bfb25",
   "metadata": {},
   "outputs": [],
   "source": [
    "import numpy as np\n",
    "import pandas as pd\n",
    "from tensorflow.keras.models import Model, load_model\n",
    "from tensorflow.keras.preprocessing.sequence import pad_sequences\n",
    "from nltk.corpus import stopwords\n",
    "from keras import backend as K\n",
    "import re\n",
    "import pickle\n",
    "from nltk.stem.porter import *\n",
    "from tensorflow.keras.preprocessing.text import one_hot"
   ]
  },
  {
   "cell_type": "code",
   "execution_count": 2,
   "id": "fd351c39",
   "metadata": {},
   "outputs": [],
   "source": [
    "stop=set(stopwords.words('english'))"
   ]
  },
  {
   "cell_type": "code",
   "execution_count": 6,
   "id": "68e2080c",
   "metadata": {},
   "outputs": [],
   "source": [
    "#Performing stemming on the review dataframe\n",
    "ps = PorterStemmer()"
   ]
  },
  {
   "cell_type": "code",
   "execution_count": 3,
   "id": "aa9d26ee",
   "metadata": {},
   "outputs": [],
   "source": [
    "def cleaninput(string):\n",
    "    text = string.lower().split()\n",
    "    text = \" \".join(text)\n",
    "    text = re.sub(r\"http(\\S)+\",' ',text)    \n",
    "    text = re.sub(r\"www(\\S)+\",' ',text)\n",
    "    text = re.sub(r\"&\",' and ',text)  \n",
    "    tx = text.replace('&amp',' ')\n",
    "    text = re.sub(r\"[^0-9a-zA-Z]+\",' ',text)\n",
    "    text = text.split()\n",
    "    text = [ps.stem(w) for w in text if not w in stop]\n",
    "    text = \" \".join(text)\n",
    "    return text"
   ]
  },
  {
   "cell_type": "code",
   "execution_count": 8,
   "id": "f8c924e8",
   "metadata": {},
   "outputs": [],
   "source": [
    "with open('one_hot.pickle', 'rb') as handle:\n",
    "    one_hot= pickle.load(handle)       #vocsize=10000,maxlen=400"
   ]
  },
  {
   "cell_type": "code",
   "execution_count": 7,
   "id": "bda5f49d",
   "metadata": {},
   "outputs": [],
   "source": [
    "my_model=load_model(\"biLSTM.h5\")"
   ]
  },
  {
   "cell_type": "code",
   "execution_count": 18,
   "id": "7f7d5f95",
   "metadata": {},
   "outputs": [],
   "source": [
    "text='Facebook posts shared hundreds of times claim US President Donald Trump approved a $2.5 million fund for Madagascar to mass-produce a herbal remedy touted by the island’s president as a cure for COVID-19.'"
   ]
  },
  {
   "cell_type": "code",
   "execution_count": 19,
   "id": "7ed47f86",
   "metadata": {},
   "outputs": [],
   "source": [
    "text=[cleaninput(text)]\n",
    "onehot_text=[one_hot(words,10000)for words in text]\n",
    "embedded_text=pad_sequences(onehot_text,padding='pre',maxlen=400)"
   ]
  },
  {
   "cell_type": "code",
   "execution_count": 20,
   "id": "59a734c1",
   "metadata": {},
   "outputs": [
    {
     "name": "stdout",
     "output_type": "stream",
     "text": [
      "1/1 [==============================] - 0s 84ms/step\n"
     ]
    }
   ],
   "source": [
    "text_pred1=(my_model.predict(embedded_text) > 0.5).astype(\"int32\")"
   ]
  },
  {
   "cell_type": "code",
   "execution_count": 21,
   "id": "cdf44b48",
   "metadata": {},
   "outputs": [
    {
     "data": {
      "text/plain": [
       "array([[1]])"
      ]
     },
     "execution_count": 21,
     "metadata": {},
     "output_type": "execute_result"
    }
   ],
   "source": [
    "text_pred1"
   ]
  },
  {
   "cell_type": "code",
   "execution_count": 22,
   "id": "d698eb53",
   "metadata": {},
   "outputs": [
    {
     "data": {
      "text/plain": [
       "['facebook post share hundr time claim us presid donald trump approv 2 5 million fund madagascar mass produc herbal remedi tout island presid cure covid 19']"
      ]
     },
     "execution_count": 22,
     "metadata": {},
     "output_type": "execute_result"
    }
   ],
   "source": [
    "text"
   ]
  },
  {
   "cell_type": "code",
   "execution_count": null,
   "id": "0a824754",
   "metadata": {},
   "outputs": [],
   "source": []
  }
 ],
 "metadata": {
  "kernelspec": {
   "display_name": "Python 3 (ipykernel)",
   "language": "python",
   "name": "python3"
  },
  "language_info": {
   "codemirror_mode": {
    "name": "ipython",
    "version": 3
   },
   "file_extension": ".py",
   "mimetype": "text/x-python",
   "name": "python",
   "nbconvert_exporter": "python",
   "pygments_lexer": "ipython3",
   "version": "3.9.12"
  }
 },
 "nbformat": 4,
 "nbformat_minor": 5
}
